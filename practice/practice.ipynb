{
 "cells": [
  {
   "cell_type": "code",
   "execution_count": null,
   "metadata": {},
   "outputs": [],
   "source": [
    "\n",
    "import numpy as np\n",
    "import matplotlib.pyplot as plt\n",
    "\n",
    "w = np.arange(-2, 6, 0.1)\n",
    "E_w = 3 * (w - 2) ** 2 + 5\n",
    "\n",
    "plt.plot(w, E_w)\n",
    "plt.show()\n",
    "\n",
    "\n"
   ]
  },
  {
   "cell_type": "code",
   "execution_count": null,
   "metadata": {},
   "outputs": [],
   "source": [
    "from turtle import color\n",
    "\n",
    "\n",
    "learning_rate = 0.05\n",
    "\n",
    "w_i = 5\n",
    "E_i = 3 * (w_i - 2) ** 2 + 5\n",
    "\n",
    "old_w = w_i\n",
    "\n",
    "learn_w = [w_i]\n",
    "learn_E = [E_i]\n",
    "\n",
    "for i in range(10) : \n",
    "    \n",
    "    grad = 6 * (old_w - 2)\n",
    "\n",
    "    new_w = old_w - learning_rate * grad\n",
    "    new_E = 3 * (new_w - 2) ** 2 + 5\n",
    "\n",
    "    learn_w.append(new_w)\n",
    "    learn_E.append(new_E)\n",
    "    \n",
    "    old_w = new_w\n",
    "\n",
    "\n",
    "plt.plot(w, E_w, 'b')\n",
    "plt.plot(learn_w, learn_E, color='tab:orange', marker='o')\n",
    "plt.plot(learn_w.pop(), learn_E.pop(), 'g^')\n",
    "plt.title('learning_rate : 0.05')\n",
    "plt.grid(True, linestyle='--')\n",
    "plt.show()"
   ]
  },
  {
   "cell_type": "markdown",
   "metadata": {},
   "source": [
    "다변함수에 경사하강법 적용하기"
   ]
  },
  {
   "cell_type": "code",
   "execution_count": null,
   "metadata": {},
   "outputs": [],
   "source": [
    "import numpy as np\n",
    "import matplotlib.pyplot as plt\n",
    "from mpl_toolkits.mplot3d import Axes3D\n",
    "\n",
    "def function_return(w1, w2) : \n",
    "    return 3*(w1 - 2)**2 + 2*(w2 - 3)**2 + 3\n",
    "\n",
    "w1 = np.linspace(0, 10)\n",
    "w2 = np.linspace(0, 10)\n",
    "\n",
    "W1, W2 = np.meshgrid(w1, w2)\n",
    "E = function_return(W1, W2)\n",
    "\n",
    "fig = plt.figure()\n",
    "ax = fig.add_subplot(111, projection='3d')\n",
    "\n",
    "ax.plot_surface(W1, W2, E)\n",
    "plt.show()"
   ]
  },
  {
   "cell_type": "code",
   "execution_count": null,
   "metadata": {},
   "outputs": [],
   "source": [
    "\n",
    "w1_i = 8\n",
    "w2_i = 10\n",
    "\n",
    "learning_rate = 0.1\n",
    "\n",
    "def grad_w1(w1) : \n",
    "    return 6 * (w1 - 2)\n",
    "def grad_w2(w2) : \n",
    "    return 2 * (w2 - 3)\n",
    "\n",
    "learn_w1 = [w1_i]\n",
    "learn_w2 = [w2_i]\n",
    "learn_E = [function_return(w1_i, w2_i)]\n",
    "\n",
    "for i in range(10) : \n",
    "\n",
    "    # w1_new, w2_new = (w1_i, w2_i) - learning_rate * (grad_w1(w1_i), grad_w2(w2_i))\n",
    "\n",
    "    w1_new = w1_i - learning_rate * grad_w1(w1_i)\n",
    "    w2_new = w2_i - learning_rate * grad_w2(w2_i)\n",
    "    \n",
    "    learn_w1.append(w1_new)\n",
    "    learn_w2.append(w2_new)\n",
    "    learn_E.append(function_return(w1_new, w2_new))\n",
    "\n",
    "    w1_i, w2_i = w1_new, w2_new\n",
    "\n",
    "fig = plt.figure()\n",
    "ax = fig.add_subplot(111, projection='3d')\n",
    "ax.plot_surface(W1, W2, E, alpha=0.8)\n",
    "ax.plot(learn_w1, learn_w2, learn_E, 'o')\n",
    "result_w1, result_w2, result_E = learn_w1.pop(), learn_w2.pop(), learn_E.pop()\n",
    "ax.plot(result_w1, result_w2, result_E, '^')\n",
    "\n",
    "print(result_w1, result_w2, result_E)\n",
    "plt.show()"
   ]
  }
 ],
 "metadata": {
  "kernelspec": {
   "display_name": "Python 3.10.4 ('machine_learning')",
   "language": "python",
   "name": "python3"
  },
  "language_info": {
   "codemirror_mode": {
    "name": "ipython",
    "version": 3
   },
   "file_extension": ".py",
   "mimetype": "text/x-python",
   "name": "python",
   "nbconvert_exporter": "python",
   "pygments_lexer": "ipython3",
   "version": "3.10.4"
  },
  "orig_nbformat": 4,
  "vscode": {
   "interpreter": {
    "hash": "f773822a4c106507f46d0dc94d1e252bf650822dec0295c1bd37199ce9eb5c44"
   }
  }
 },
 "nbformat": 4,
 "nbformat_minor": 2
}
